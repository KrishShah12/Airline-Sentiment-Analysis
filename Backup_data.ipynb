{
 "cells": [
  {
   "cell_type": "markdown",
   "id": "bff49d94",
   "metadata": {},
   "source": [
    "Here we Store our data in 3 different formats : xlsx, json, sqlite"
   ]
  },
  {
   "cell_type": "code",
   "execution_count": 1,
   "id": "ede137d6",
   "metadata": {},
   "outputs": [],
   "source": [
    "import pandas as pd \n",
    "import sqlite3"
   ]
  },
  {
   "cell_type": "code",
   "execution_count": 2,
   "id": "b3afbbcc",
   "metadata": {},
   "outputs": [],
   "source": [
    "df = pd.read_csv(\"Final_csv.csv\")"
   ]
  },
  {
   "cell_type": "markdown",
   "id": "837c6aba",
   "metadata": {},
   "source": [
    "# Convert to .xlsx file"
   ]
  },
  {
   "cell_type": "code",
   "execution_count": 3,
   "id": "74ea10bf",
   "metadata": {},
   "outputs": [],
   "source": [
    "df.to_excel('Final_csv.xlsx', index=False) "
   ]
  },
  {
   "cell_type": "markdown",
   "id": "fc978277",
   "metadata": {},
   "source": [
    "# Convert to .json file"
   ]
  },
  {
   "cell_type": "code",
   "execution_count": 7,
   "id": "efc113fe",
   "metadata": {},
   "outputs": [],
   "source": [
    "df.to_json('Final_csv.json', orient='records')"
   ]
  },
  {
   "cell_type": "markdown",
   "id": "64b6842b",
   "metadata": {},
   "source": [
    "# Convert to SQLite database"
   ]
  },
  {
   "cell_type": "code",
   "execution_count": 6,
   "id": "0f5f4bc9",
   "metadata": {},
   "outputs": [],
   "source": [
    "# Create a connection to a SQLite database\n",
    "conn = sqlite3.connect('Final_csv.db')\n",
    "\n",
    "# Assuming df is your DataFrame, replace 'table_name' with the name you want for your table\n",
    "df.to_sql('flights', conn, if_exists='replace', index=False)\n",
    "\n",
    "# Close the connection\n",
    "conn.close()"
   ]
  }
 ],
 "metadata": {
  "kernelspec": {
   "display_name": "Python 3 (ipykernel)",
   "language": "python",
   "name": "python3"
  },
  "language_info": {
   "codemirror_mode": {
    "name": "ipython",
    "version": 3
   },
   "file_extension": ".py",
   "mimetype": "text/x-python",
   "name": "python",
   "nbconvert_exporter": "python",
   "pygments_lexer": "ipython3",
   "version": "3.11.5"
  }
 },
 "nbformat": 4,
 "nbformat_minor": 5
}
