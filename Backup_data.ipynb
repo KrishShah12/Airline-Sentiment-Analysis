{
 "cells": [
  {
   "cell_type": "markdown",
   "id": "c745f767",
   "metadata": {},
   "source": [
    "Here we store our data in 3 different formats : xlsx, json, sqlite"
   ]
  },
  {
   "cell_type": "code",
   "execution_count": 8,
   "id": "35323e7f",
   "metadata": {},
   "outputs": [],
   "source": [
    "import pandas as pd \n",
    "import sqlite3"
   ]
  },
  {
   "cell_type": "code",
   "execution_count": 9,
   "id": "aab1fce5",
   "metadata": {},
   "outputs": [],
   "source": [
    "df = pd.read_csv(\"cleaned_data.csv\")"
   ]
  },
  {
   "cell_type": "markdown",
   "id": "7954cc97",
   "metadata": {},
   "source": [
    "# Convert to .xlsx file"
   ]
  },
  {
   "cell_type": "code",
   "execution_count": 10,
   "id": "1297fffd",
   "metadata": {},
   "outputs": [],
   "source": [
    "df.to_excel('cleaned_data.xlsx', index=False) "
   ]
  },
  {
   "cell_type": "markdown",
   "id": "2983cf19",
   "metadata": {},
   "source": [
    "# Convert to .json file"
   ]
  },
  {
   "cell_type": "code",
   "execution_count": 11,
   "id": "917d7bd3",
   "metadata": {},
   "outputs": [],
   "source": [
    "df.to_json('cleaned_data.json', orient='records')"
   ]
  },
  {
   "cell_type": "markdown",
   "id": "f219069f",
   "metadata": {},
   "source": [
    "# Convert to SQLite database"
   ]
  },
  {
   "cell_type": "code",
   "execution_count": 12,
   "id": "6ceb8e06",
   "metadata": {},
   "outputs": [],
   "source": [
    "# Create a connection to a SQLite database\n",
    "conn = sqlite3.connect('cleaned_data.db')\n",
    "\n",
    "# Assuming df is your DataFrame, replace 'table_name' with the name you want for your table\n",
    "df.to_sql('flights', conn, if_exists='replace', index=False)\n",
    "\n",
    "# Close the connection\n",
    "conn.close()"
   ]
  }
 ],
 "metadata": {
  "kernelspec": {
   "display_name": "Python 3 (ipykernel)",
   "language": "python",
   "name": "python3"
  },
  "language_info": {
   "codemirror_mode": {
    "name": "ipython",
    "version": 3
   },
   "file_extension": ".py",
   "mimetype": "text/x-python",
   "name": "python",
   "nbconvert_exporter": "python",
   "pygments_lexer": "ipython3",
   "version": "3.11.5"
  }
 },
 "nbformat": 4,
 "nbformat_minor": 5
}
