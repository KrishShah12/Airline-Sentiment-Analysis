{
 "cells": [
  {
   "cell_type": "markdown",
   "id": "77e89c41",
   "metadata": {},
   "source": [
    "Here we Store our data in 3 different formats : xlsx, json, sqlite"
   ]
  },
  {
   "cell_type": "code",
   "execution_count": 1,
   "id": "75efbf87",
   "metadata": {},
   "outputs": [],
   "source": [
    "import pandas as pd \n",
    "import sqlite3"
   ]
  },
  {
   "cell_type": "code",
   "execution_count": 2,
   "id": "44d71743",
   "metadata": {},
   "outputs": [],
   "source": [
    "df = pd.read_csv(\"Final_csv.csv\")"
   ]
  },
  {
   "cell_type": "markdown",
   "id": "149baca8",
   "metadata": {},
   "source": [
    "# Convert to .xlsx file"
   ]
  },
  {
   "cell_type": "code",
   "execution_count": 3,
   "id": "616be465",
   "metadata": {},
   "outputs": [],
   "source": [
    "df.to_excel('Final_csv.xlsx', index=False) "
   ]
  },
  {
   "cell_type": "markdown",
   "id": "8ee38be1",
   "metadata": {},
   "source": [
    "# Convert to .json file"
   ]
  },
  {
   "cell_type": "code",
   "execution_count": 5,
   "id": "37be5c3d",
   "metadata": {},
   "outputs": [],
   "source": [
    "df.to_json('data.json', orient='records')"
   ]
  },
  {
   "cell_type": "markdown",
   "id": "dba7c0de",
   "metadata": {},
   "source": [
    "# Convert to SQLite database"
   ]
  },
  {
   "cell_type": "code",
   "execution_count": 6,
   "id": "df6f6830",
   "metadata": {},
   "outputs": [],
   "source": [
    "# Create a connection to a SQLite database\n",
    "conn = sqlite3.connect('Final_csv.db')\n",
    "\n",
    "# Assuming df is your DataFrame, replace 'table_name' with the name you want for your table\n",
    "df.to_sql('flights', conn, if_exists='replace', index=False)\n",
    "\n",
    "# Close the connection\n",
    "conn.close()"
   ]
  }
 ],
 "metadata": {
  "kernelspec": {
   "display_name": "Python 3 (ipykernel)",
   "language": "python",
   "name": "python3"
  },
  "language_info": {
   "codemirror_mode": {
    "name": "ipython",
    "version": 3
   },
   "file_extension": ".py",
   "mimetype": "text/x-python",
   "name": "python",
   "nbconvert_exporter": "python",
   "pygments_lexer": "ipython3",
   "version": "3.11.5"
  }
 },
 "nbformat": 4,
 "nbformat_minor": 5
}
